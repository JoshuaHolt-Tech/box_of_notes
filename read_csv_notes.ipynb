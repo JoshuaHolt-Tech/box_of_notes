{
 "cells": [
  {
   "cell_type": "markdown",
   "id": "6b79fa46",
   "metadata": {},
   "source": [
    "https://towardsdatascience.com/advanced-tips-on-how-to-read-csv-files-into-pandas-84ebb170f6e5\n",
    "\n",
    "Another article:\n",
    "\n",
    "https://www.listendata.com/2019/06/pandas-read-csv.html\n",
    "\n",
    "How to import different file types:\n",
    "\n",
    "https://www.listendata.com/2017/02/import-data-in-python.html\n",
    "\n",
    "Speeding up the csv import process:\n",
    "\n",
    "https://towardsdatascience.com/all-the-pandas-read-csv-you-should-know-to-speed-up-your-data-analysis-1e16fe1039f3\n",
    "\n",
    "Encoding detection:\n",
    "\n",
    "https://www.kaggle.com/code/alexisbcook/character-encodings/tutorial\n"
   ]
  },
  {
   "cell_type": "code",
   "execution_count": 1,
   "id": "3bc64da8",
   "metadata": {},
   "outputs": [],
   "source": [
    "import pandas as pd\n",
    "import numpy as np"
   ]
  },
  {
   "cell_type": "markdown",
   "id": "7173facb",
   "metadata": {},
   "source": [
    "## Read csv files into Pandas the regular way:"
   ]
  },
  {
   "cell_type": "code",
   "execution_count": 2,
   "id": "aee4bd84",
   "metadata": {},
   "outputs": [],
   "source": [
    "employees = pd.read_csv(\"employees.csv\")"
   ]
  },
  {
   "cell_type": "code",
   "execution_count": 3,
   "id": "005a301e",
   "metadata": {},
   "outputs": [
    {
     "data": {
      "text/html": [
       "<div>\n",
       "<style scoped>\n",
       "    .dataframe tbody tr th:only-of-type {\n",
       "        vertical-align: middle;\n",
       "    }\n",
       "\n",
       "    .dataframe tbody tr th {\n",
       "        vertical-align: top;\n",
       "    }\n",
       "\n",
       "    .dataframe thead th {\n",
       "        text-align: right;\n",
       "    }\n",
       "</style>\n",
       "<table border=\"1\" class=\"dataframe\">\n",
       "  <thead>\n",
       "    <tr style=\"text-align: right;\">\n",
       "      <th></th>\n",
       "      <th>First Name</th>\n",
       "      <th>Gender</th>\n",
       "      <th>Start Date</th>\n",
       "      <th>Last Login Time</th>\n",
       "      <th>Salary</th>\n",
       "      <th>Bonus %</th>\n",
       "      <th>Senior Management</th>\n",
       "      <th>Team</th>\n",
       "    </tr>\n",
       "  </thead>\n",
       "  <tbody>\n",
       "    <tr>\n",
       "      <th>662</th>\n",
       "      <td>Katherine</td>\n",
       "      <td>Female</td>\n",
       "      <td>12/19/2000</td>\n",
       "      <td>1:40 AM</td>\n",
       "      <td>41643</td>\n",
       "      <td>4.659</td>\n",
       "      <td>True</td>\n",
       "      <td>Distribution</td>\n",
       "    </tr>\n",
       "    <tr>\n",
       "      <th>707</th>\n",
       "      <td>Patricia</td>\n",
       "      <td>Female</td>\n",
       "      <td>3/7/1998</td>\n",
       "      <td>1:10 AM</td>\n",
       "      <td>75825</td>\n",
       "      <td>7.839</td>\n",
       "      <td>False</td>\n",
       "      <td>Engineering</td>\n",
       "    </tr>\n",
       "    <tr>\n",
       "      <th>652</th>\n",
       "      <td>Willie</td>\n",
       "      <td>Male</td>\n",
       "      <td>12/5/2009</td>\n",
       "      <td>5:39 AM</td>\n",
       "      <td>141932</td>\n",
       "      <td>1.017</td>\n",
       "      <td>True</td>\n",
       "      <td>Engineering</td>\n",
       "    </tr>\n",
       "    <tr>\n",
       "      <th>315</th>\n",
       "      <td>Bobby</td>\n",
       "      <td>NaN</td>\n",
       "      <td>9/1/1995</td>\n",
       "      <td>2:09 PM</td>\n",
       "      <td>108127</td>\n",
       "      <td>15.858</td>\n",
       "      <td>False</td>\n",
       "      <td>Client Services</td>\n",
       "    </tr>\n",
       "    <tr>\n",
       "      <th>167</th>\n",
       "      <td>Christopher</td>\n",
       "      <td>Male</td>\n",
       "      <td>12/24/2011</td>\n",
       "      <td>12:22 PM</td>\n",
       "      <td>142178</td>\n",
       "      <td>17.984</td>\n",
       "      <td>True</td>\n",
       "      <td>Sales</td>\n",
       "    </tr>\n",
       "    <tr>\n",
       "      <th>546</th>\n",
       "      <td>Joseph</td>\n",
       "      <td>Male</td>\n",
       "      <td>9/10/1992</td>\n",
       "      <td>6:50 PM</td>\n",
       "      <td>102555</td>\n",
       "      <td>3.672</td>\n",
       "      <td>True</td>\n",
       "      <td>Product</td>\n",
       "    </tr>\n",
       "    <tr>\n",
       "      <th>684</th>\n",
       "      <td>Alice</td>\n",
       "      <td>Female</td>\n",
       "      <td>1/21/2016</td>\n",
       "      <td>5:07 PM</td>\n",
       "      <td>117787</td>\n",
       "      <td>10.485</td>\n",
       "      <td>False</td>\n",
       "      <td>NaN</td>\n",
       "    </tr>\n",
       "    <tr>\n",
       "      <th>967</th>\n",
       "      <td>Thomas</td>\n",
       "      <td>Male</td>\n",
       "      <td>3/12/2016</td>\n",
       "      <td>3:10 PM</td>\n",
       "      <td>105681</td>\n",
       "      <td>19.572</td>\n",
       "      <td>False</td>\n",
       "      <td>Engineering</td>\n",
       "    </tr>\n",
       "    <tr>\n",
       "      <th>528</th>\n",
       "      <td>Jimmy</td>\n",
       "      <td>NaN</td>\n",
       "      <td>8/26/1983</td>\n",
       "      <td>2:48 AM</td>\n",
       "      <td>86676</td>\n",
       "      <td>7.175</td>\n",
       "      <td>True</td>\n",
       "      <td>Product</td>\n",
       "    </tr>\n",
       "    <tr>\n",
       "      <th>609</th>\n",
       "      <td>Todd</td>\n",
       "      <td>Male</td>\n",
       "      <td>2/16/2010</td>\n",
       "      <td>11:29 AM</td>\n",
       "      <td>103405</td>\n",
       "      <td>15.910</td>\n",
       "      <td>False</td>\n",
       "      <td>Sales</td>\n",
       "    </tr>\n",
       "  </tbody>\n",
       "</table>\n",
       "</div>"
      ],
      "text/plain": [
       "      First Name  Gender  Start Date Last Login Time  Salary  Bonus %  \\\n",
       "662    Katherine  Female  12/19/2000         1:40 AM   41643    4.659   \n",
       "707     Patricia  Female    3/7/1998         1:10 AM   75825    7.839   \n",
       "652       Willie    Male   12/5/2009         5:39 AM  141932    1.017   \n",
       "315        Bobby     NaN    9/1/1995         2:09 PM  108127   15.858   \n",
       "167  Christopher    Male  12/24/2011        12:22 PM  142178   17.984   \n",
       "546       Joseph    Male   9/10/1992         6:50 PM  102555    3.672   \n",
       "684        Alice  Female   1/21/2016         5:07 PM  117787   10.485   \n",
       "967       Thomas    Male   3/12/2016         3:10 PM  105681   19.572   \n",
       "528        Jimmy     NaN   8/26/1983         2:48 AM   86676    7.175   \n",
       "609         Todd    Male   2/16/2010        11:29 AM  103405   15.910   \n",
       "\n",
       "    Senior Management             Team  \n",
       "662              True     Distribution  \n",
       "707             False      Engineering  \n",
       "652              True      Engineering  \n",
       "315             False  Client Services  \n",
       "167              True            Sales  \n",
       "546              True          Product  \n",
       "684             False              NaN  \n",
       "967             False      Engineering  \n",
       "528              True          Product  \n",
       "609             False            Sales  "
      ]
     },
     "execution_count": 3,
     "metadata": {},
     "output_type": "execute_result"
    }
   ],
   "source": [
    "employees.sample(10)"
   ]
  },
  {
   "cell_type": "code",
   "execution_count": 4,
   "id": "9aa82746",
   "metadata": {},
   "outputs": [
    {
     "name": "stdout",
     "output_type": "stream",
     "text": [
      "<class 'pandas.core.frame.DataFrame'>\n",
      "RangeIndex: 1000 entries, 0 to 999\n",
      "Data columns (total 8 columns):\n",
      " #   Column             Non-Null Count  Dtype  \n",
      "---  ------             --------------  -----  \n",
      " 0   First Name         933 non-null    object \n",
      " 1   Gender             855 non-null    object \n",
      " 2   Start Date         1000 non-null   object \n",
      " 3   Last Login Time    1000 non-null   object \n",
      " 4   Salary             1000 non-null   int64  \n",
      " 5   Bonus %            1000 non-null   float64\n",
      " 6   Senior Management  933 non-null    object \n",
      " 7   Team               957 non-null    object \n",
      "dtypes: float64(1), int64(1), object(6)\n",
      "memory usage: 62.6+ KB\n"
     ]
    }
   ],
   "source": [
    "employees.info()"
   ]
  },
  {
   "cell_type": "markdown",
   "id": "1fb10ac1",
   "metadata": {},
   "source": [
    "## Pick only the columns you need:"
   ]
  },
  {
   "cell_type": "code",
   "execution_count": 5,
   "id": "de0eedbe",
   "metadata": {},
   "outputs": [
    {
     "name": "stdout",
     "output_type": "stream",
     "text": [
      "<class 'pandas.core.frame.DataFrame'>\n",
      "RangeIndex: 1000 entries, 0 to 999\n",
      "Data columns (total 2 columns):\n",
      " #   Column      Non-Null Count  Dtype \n",
      "---  ------      --------------  ----- \n",
      " 0   First Name  933 non-null    object\n",
      " 1   Salary      1000 non-null   int64 \n",
      "dtypes: int64(1), object(1)\n",
      "memory usage: 15.8+ KB\n"
     ]
    }
   ],
   "source": [
    "emp_cols = pd.read_csv(\n",
    "  \"employees.csv\", #You might need the full filepath if the file is located in a different folder.\n",
    "  usecols=[\"First Name\", \"Salary\"]\n",
    ")\n",
    "emp_cols.info()"
   ]
  },
  {
   "cell_type": "markdown",
   "id": "9e6d4bf1",
   "metadata": {},
   "source": [
    "## Specify 'Yes'/'No' values on import:"
   ]
  },
  {
   "cell_type": "code",
   "execution_count": 6,
   "id": "6cebcf7f",
   "metadata": {},
   "outputs": [
    {
     "data": {
      "text/plain": [
       "' In this case it does not apply because there are no yes/no columns in my employees.csv.\\n\\nemployees = pd.read_csv(\\n    \"employees.csv\", \\n    true_values=[\"Yes\", \"yes\"], \\n    false_values=[\"No\", \"no\"]\\n)\\n'"
      ]
     },
     "execution_count": 6,
     "metadata": {},
     "output_type": "execute_result"
    }
   ],
   "source": [
    "\"\"\" In this case it does not apply because there are no yes/no columns in my employees.csv.\n",
    "\n",
    "employees = pd.read_csv(\n",
    "    \"employees.csv\", \n",
    "    true_values=[\"Yes\", \"yes\"], \n",
    "    false_values=[\"No\", \"no\"]\n",
    ")\n",
    "\"\"\""
   ]
  },
  {
   "cell_type": "markdown",
   "id": "a964a703",
   "metadata": {},
   "source": [
    "## Sample a few rows before doing the whole import:\n",
    "For larger files you could also look at the read_csv(chunking=###) argument."
   ]
  },
  {
   "cell_type": "code",
   "execution_count": 7,
   "id": "a74ed65e",
   "metadata": {},
   "outputs": [
    {
     "data": {
      "text/html": [
       "<div>\n",
       "<style scoped>\n",
       "    .dataframe tbody tr th:only-of-type {\n",
       "        vertical-align: middle;\n",
       "    }\n",
       "\n",
       "    .dataframe tbody tr th {\n",
       "        vertical-align: top;\n",
       "    }\n",
       "\n",
       "    .dataframe thead th {\n",
       "        text-align: right;\n",
       "    }\n",
       "</style>\n",
       "<table border=\"1\" class=\"dataframe\">\n",
       "  <thead>\n",
       "    <tr style=\"text-align: right;\">\n",
       "      <th></th>\n",
       "      <th>First Name</th>\n",
       "      <th>Gender</th>\n",
       "      <th>Start Date</th>\n",
       "      <th>Last Login Time</th>\n",
       "      <th>Salary</th>\n",
       "      <th>Bonus %</th>\n",
       "      <th>Senior Management</th>\n",
       "      <th>Team</th>\n",
       "    </tr>\n",
       "  </thead>\n",
       "  <tbody>\n",
       "    <tr>\n",
       "      <th>5</th>\n",
       "      <td>Dennis</td>\n",
       "      <td>Male</td>\n",
       "      <td>4/18/1987</td>\n",
       "      <td>1:35 AM</td>\n",
       "      <td>115163</td>\n",
       "      <td>10.125</td>\n",
       "      <td>False</td>\n",
       "      <td>Legal</td>\n",
       "    </tr>\n",
       "    <tr>\n",
       "      <th>6</th>\n",
       "      <td>Ruby</td>\n",
       "      <td>Female</td>\n",
       "      <td>8/17/1987</td>\n",
       "      <td>4:20 PM</td>\n",
       "      <td>65476</td>\n",
       "      <td>10.012</td>\n",
       "      <td>True</td>\n",
       "      <td>Product</td>\n",
       "    </tr>\n",
       "    <tr>\n",
       "      <th>7</th>\n",
       "      <td>NaN</td>\n",
       "      <td>Female</td>\n",
       "      <td>7/20/2015</td>\n",
       "      <td>10:43 AM</td>\n",
       "      <td>45906</td>\n",
       "      <td>11.598</td>\n",
       "      <td>NaN</td>\n",
       "      <td>Finance</td>\n",
       "    </tr>\n",
       "    <tr>\n",
       "      <th>8</th>\n",
       "      <td>Angela</td>\n",
       "      <td>Female</td>\n",
       "      <td>11/22/2005</td>\n",
       "      <td>6:29 AM</td>\n",
       "      <td>95570</td>\n",
       "      <td>18.523</td>\n",
       "      <td>True</td>\n",
       "      <td>Engineering</td>\n",
       "    </tr>\n",
       "    <tr>\n",
       "      <th>9</th>\n",
       "      <td>Frances</td>\n",
       "      <td>Female</td>\n",
       "      <td>8/8/2002</td>\n",
       "      <td>6:51 AM</td>\n",
       "      <td>139852</td>\n",
       "      <td>7.524</td>\n",
       "      <td>True</td>\n",
       "      <td>Business Development</td>\n",
       "    </tr>\n",
       "  </tbody>\n",
       "</table>\n",
       "</div>"
      ],
      "text/plain": [
       "  First Name  Gender  Start Date Last Login Time  Salary  Bonus %  \\\n",
       "5     Dennis    Male   4/18/1987         1:35 AM  115163   10.125   \n",
       "6       Ruby  Female   8/17/1987         4:20 PM   65476   10.012   \n",
       "7        NaN  Female   7/20/2015        10:43 AM   45906   11.598   \n",
       "8     Angela  Female  11/22/2005         6:29 AM   95570   18.523   \n",
       "9    Frances  Female    8/8/2002         6:51 AM  139852    7.524   \n",
       "\n",
       "  Senior Management                  Team  \n",
       "5             False                 Legal  \n",
       "6              True               Product  \n",
       "7               NaN               Finance  \n",
       "8              True           Engineering  \n",
       "9              True  Business Development  "
      ]
     },
     "execution_count": 7,
     "metadata": {},
     "output_type": "execute_result"
    }
   ],
   "source": [
    "numbers = pd.read_csv(\n",
    "  \"employees.csv\",\n",
    "  nrows=10\n",
    ")\n",
    "numbers.tail()"
   ]
  },
  {
   "cell_type": "markdown",
   "id": "6cfe3d12",
   "metadata": {},
   "source": [
    "## Changing the 'Start Date' and 'Last Login Time' to date/time objects:"
   ]
  },
  {
   "cell_type": "code",
   "execution_count": 8,
   "id": "089780ea",
   "metadata": {},
   "outputs": [],
   "source": [
    "employees['Start Date'] = pd.to_datetime(employees['Start Date'])"
   ]
  },
  {
   "cell_type": "code",
   "execution_count": 9,
   "id": "3d53f83d",
   "metadata": {
    "scrolled": true
   },
   "outputs": [
    {
     "name": "stdout",
     "output_type": "stream",
     "text": [
      "<class 'pandas.core.frame.DataFrame'>\n",
      "RangeIndex: 1000 entries, 0 to 999\n",
      "Data columns (total 8 columns):\n",
      " #   Column             Non-Null Count  Dtype         \n",
      "---  ------             --------------  -----         \n",
      " 0   First Name         933 non-null    object        \n",
      " 1   Gender             855 non-null    object        \n",
      " 2   Start Date         1000 non-null   datetime64[ns]\n",
      " 3   Last Login Time    1000 non-null   object        \n",
      " 4   Salary             1000 non-null   int64         \n",
      " 5   Bonus %            1000 non-null   float64       \n",
      " 6   Senior Management  933 non-null    object        \n",
      " 7   Team               957 non-null    object        \n",
      "dtypes: datetime64[ns](1), float64(1), int64(1), object(5)\n",
      "memory usage: 62.6+ KB\n"
     ]
    }
   ],
   "source": [
    "employees.info()"
   ]
  },
  {
   "cell_type": "code",
   "execution_count": 10,
   "id": "3d7a3cf8",
   "metadata": {},
   "outputs": [],
   "source": [
    "employees['Last Login Time'] = pd.to_datetime(employees['Last Login Time'], infer_datetime_format=True)"
   ]
  },
  {
   "cell_type": "markdown",
   "id": "36b88033",
   "metadata": {},
   "source": [
    "This adds the date to 'Last Login Time' column. Specifying \"format='%H%M%S'\" causes an error because it doesn't know how to handle the 'AM' and 'PM' parts of the string. I'm unsure how to handle this and more research is needed(???)."
   ]
  },
  {
   "cell_type": "code",
   "execution_count": 11,
   "id": "b5060a04",
   "metadata": {},
   "outputs": [],
   "source": [
    "employees['Last Login Time'] = pd.to_datetime(employees['Last Login Time'], format='%H%M%S')\n",
    "#This doesn't seem to change the format, unsure why."
   ]
  },
  {
   "cell_type": "code",
   "execution_count": 12,
   "id": "c3e86126",
   "metadata": {},
   "outputs": [
    {
     "data": {
      "text/html": [
       "<div>\n",
       "<style scoped>\n",
       "    .dataframe tbody tr th:only-of-type {\n",
       "        vertical-align: middle;\n",
       "    }\n",
       "\n",
       "    .dataframe tbody tr th {\n",
       "        vertical-align: top;\n",
       "    }\n",
       "\n",
       "    .dataframe thead th {\n",
       "        text-align: right;\n",
       "    }\n",
       "</style>\n",
       "<table border=\"1\" class=\"dataframe\">\n",
       "  <thead>\n",
       "    <tr style=\"text-align: right;\">\n",
       "      <th></th>\n",
       "      <th>First Name</th>\n",
       "      <th>Gender</th>\n",
       "      <th>Start Date</th>\n",
       "      <th>Last Login Time</th>\n",
       "      <th>Salary</th>\n",
       "      <th>Bonus %</th>\n",
       "      <th>Senior Management</th>\n",
       "      <th>Team</th>\n",
       "    </tr>\n",
       "  </thead>\n",
       "  <tbody>\n",
       "    <tr>\n",
       "      <th>543</th>\n",
       "      <td>Anna</td>\n",
       "      <td>Female</td>\n",
       "      <td>2008-04-15</td>\n",
       "      <td>2022-11-20 14:34:00</td>\n",
       "      <td>117293</td>\n",
       "      <td>2.366</td>\n",
       "      <td>False</td>\n",
       "      <td>Client Services</td>\n",
       "    </tr>\n",
       "    <tr>\n",
       "      <th>356</th>\n",
       "      <td>Judy</td>\n",
       "      <td>Female</td>\n",
       "      <td>1990-02-01</td>\n",
       "      <td>2022-11-20 15:32:00</td>\n",
       "      <td>38092</td>\n",
       "      <td>5.668</td>\n",
       "      <td>False</td>\n",
       "      <td>Distribution</td>\n",
       "    </tr>\n",
       "    <tr>\n",
       "      <th>447</th>\n",
       "      <td>Gregory</td>\n",
       "      <td>Male</td>\n",
       "      <td>2009-05-15</td>\n",
       "      <td>2022-11-20 15:52:00</td>\n",
       "      <td>142208</td>\n",
       "      <td>11.204</td>\n",
       "      <td>True</td>\n",
       "      <td>Engineering</td>\n",
       "    </tr>\n",
       "    <tr>\n",
       "      <th>163</th>\n",
       "      <td>Terry</td>\n",
       "      <td>Male</td>\n",
       "      <td>1990-09-03</td>\n",
       "      <td>2022-11-20 21:15:00</td>\n",
       "      <td>52226</td>\n",
       "      <td>19.135</td>\n",
       "      <td>False</td>\n",
       "      <td>Client Services</td>\n",
       "    </tr>\n",
       "    <tr>\n",
       "      <th>903</th>\n",
       "      <td>Heather</td>\n",
       "      <td>Female</td>\n",
       "      <td>1983-07-29</td>\n",
       "      <td>2022-11-20 10:48:00</td>\n",
       "      <td>47605</td>\n",
       "      <td>14.955</td>\n",
       "      <td>True</td>\n",
       "      <td>Human Resources</td>\n",
       "    </tr>\n",
       "    <tr>\n",
       "      <th>888</th>\n",
       "      <td>Marilyn</td>\n",
       "      <td>Female</td>\n",
       "      <td>2007-10-08</td>\n",
       "      <td>2022-11-20 00:32:00</td>\n",
       "      <td>115149</td>\n",
       "      <td>11.934</td>\n",
       "      <td>True</td>\n",
       "      <td>Legal</td>\n",
       "    </tr>\n",
       "    <tr>\n",
       "      <th>792</th>\n",
       "      <td>Anne</td>\n",
       "      <td>NaN</td>\n",
       "      <td>1996-04-18</td>\n",
       "      <td>2022-11-20 23:57:00</td>\n",
       "      <td>122762</td>\n",
       "      <td>9.564</td>\n",
       "      <td>False</td>\n",
       "      <td>Distribution</td>\n",
       "    </tr>\n",
       "  </tbody>\n",
       "</table>\n",
       "</div>"
      ],
      "text/plain": [
       "    First Name  Gender Start Date     Last Login Time  Salary  Bonus %  \\\n",
       "543       Anna  Female 2008-04-15 2022-11-20 14:34:00  117293    2.366   \n",
       "356       Judy  Female 1990-02-01 2022-11-20 15:32:00   38092    5.668   \n",
       "447    Gregory    Male 2009-05-15 2022-11-20 15:52:00  142208   11.204   \n",
       "163      Terry    Male 1990-09-03 2022-11-20 21:15:00   52226   19.135   \n",
       "903    Heather  Female 1983-07-29 2022-11-20 10:48:00   47605   14.955   \n",
       "888    Marilyn  Female 2007-10-08 2022-11-20 00:32:00  115149   11.934   \n",
       "792       Anne     NaN 1996-04-18 2022-11-20 23:57:00  122762    9.564   \n",
       "\n",
       "    Senior Management             Team  \n",
       "543             False  Client Services  \n",
       "356             False     Distribution  \n",
       "447              True      Engineering  \n",
       "163             False  Client Services  \n",
       "903              True  Human Resources  \n",
       "888              True            Legal  \n",
       "792             False     Distribution  "
      ]
     },
     "execution_count": 12,
     "metadata": {},
     "output_type": "execute_result"
    }
   ],
   "source": [
    "employees.sample(7)\n"
   ]
  },
  {
   "cell_type": "code",
   "execution_count": 13,
   "id": "60fb10ac",
   "metadata": {
    "scrolled": true
   },
   "outputs": [
    {
     "name": "stdout",
     "output_type": "stream",
     "text": [
      "<class 'pandas.core.frame.DataFrame'>\n",
      "RangeIndex: 1000 entries, 0 to 999\n",
      "Data columns (total 8 columns):\n",
      " #   Column             Non-Null Count  Dtype         \n",
      "---  ------             --------------  -----         \n",
      " 0   First Name         933 non-null    object        \n",
      " 1   Gender             855 non-null    object        \n",
      " 2   Start Date         1000 non-null   datetime64[ns]\n",
      " 3   Last Login Time    1000 non-null   datetime64[ns]\n",
      " 4   Salary             1000 non-null   int64         \n",
      " 5   Bonus %            1000 non-null   float64       \n",
      " 6   Senior Management  933 non-null    object        \n",
      " 7   Team               957 non-null    object        \n",
      "dtypes: datetime64[ns](2), float64(1), int64(1), object(4)\n",
      "memory usage: 62.6+ KB\n"
     ]
    }
   ],
   "source": [
    "employees.info()"
   ]
  },
  {
   "cell_type": "markdown",
   "id": "bd8c01c0",
   "metadata": {},
   "source": [
    "## Set the index column on import:"
   ]
  },
  {
   "cell_type": "code",
   "execution_count": 14,
   "id": "08797ce6",
   "metadata": {},
   "outputs": [
    {
     "data": {
      "text/plain": [
       "' I only have employees.csv, not numbers.csv\\nnumbers = pd.read_csv(\\n  \"filepath_to_numbers.csv\",\\n  nrows=1000,\\n  index_col=\"Numbers\"\\n)\\n'"
      ]
     },
     "execution_count": 14,
     "metadata": {},
     "output_type": "execute_result"
    }
   ],
   "source": [
    "\"\"\" I only have employees.csv, not numbers.csv\n",
    "numbers = pd.read_csv(\n",
    "  \"filepath_to_numbers.csv\",\n",
    "  nrows=1000,\n",
    "  index_col=\"Numbers\"\n",
    ")\n",
    "\"\"\""
   ]
  },
  {
   "cell_type": "markdown",
   "id": "16a61776",
   "metadata": {},
   "source": [
    "## Handle missing values:\n",
    "https://towardsdatascience.com/working-with-missing-values-in-pandas-5da45d16e74"
   ]
  },
  {
   "cell_type": "markdown",
   "id": "2178f2ee",
   "metadata": {},
   "source": [
    "*Be aware that setting NA,NaN,null values to 0 might affect the statistics of the data."
   ]
  },
  {
   "cell_type": "code",
   "execution_count": 15,
   "id": "60d080e6",
   "metadata": {},
   "outputs": [],
   "source": [
    "employees_na_handling = pd.read_csv(\n",
    "    \"employees.csv\",\n",
    "    na_values=[\"0\"]\n",
    ")"
   ]
  },
  {
   "cell_type": "markdown",
   "id": "b43eb6ca",
   "metadata": {},
   "source": [
    "You could also use the Missingno library to visualize missing data:\n",
    "https://towardsdatascience.com/visualizing-missing-values-in-python-is-shockingly-easy-56ed5bc2e7ea"
   ]
  },
  {
   "cell_type": "markdown",
   "id": "d5235031",
   "metadata": {},
   "source": [
    "Functions to deal with missing values:\n",
    "- isnull()\n",
    "- notnull()\n",
    "- dropna()\n",
    "- fillna()\n",
    "- replace() #if df already created.\n",
    "- interpolate()\n",
    "- in pd.read_csv(\"blah.csv\", na_values(['?','&'])\n"
   ]
  },
  {
   "cell_type": "markdown",
   "id": "f0345687",
   "metadata": {},
   "source": [
    "# Encoding:\n",
    "This is how the human readable part (string) is mapped/translated to machine readable part (binary). Currently the norm is UTF-8."
   ]
  },
  {
   "cell_type": "markdown",
   "id": "5d6224c7",
   "metadata": {},
   "source": [
    "python package: chardet (pip install chardet)(https://pypi.org/project/chardet/). 'chardet' is a python package to help identify encodings. It also has a command line tool to help detect what type of encoding a file has. This could be useful for loading a file into Pandas."
   ]
  },
  {
   "cell_type": "markdown",
   "id": "690f257f",
   "metadata": {},
   "source": [
    "If you have an encoding error you will recieve something like this:\n",
    "\n",
    "UnicodeDecodeError: 'utf-8' codec can't decode byte 0x99 in position 7955: invalid start byte\n",
    "\n",
    "UnicodeDecodeError: 'ascii' codec can't decode byte 0xe2 in position 25: ordinal not in range(128)"
   ]
  },
  {
   "cell_type": "markdown",
   "id": "583e0b5e",
   "metadata": {},
   "source": [
    "Python methods to help translate between encodings:\n",
    "\n",
    "- .encode() https://www.geeksforgeeks.org/python-strings-encode-method/?ref=lbp\n",
    "- .decode() https://www.geeksforgeeks.org/python-strings-decode-method/"
   ]
  },
  {
   "cell_type": "code",
   "execution_count": 16,
   "id": "12741278",
   "metadata": {},
   "outputs": [],
   "source": [
    "# This will create a new file in the same folder as your notebook. (will be saved as UTF-8 by default)\n",
    "employees.to_csv(\"employees-utf8.csv\")"
   ]
  },
  {
   "cell_type": "markdown",
   "id": "5d022453",
   "metadata": {},
   "source": [
    "Another option I came across was opening the file in VS Code and saving it. It should be saved as UTF-8 by default but pandas still hand trouble with some of the symbols that were saved."
   ]
  },
  {
   "cell_type": "code",
   "execution_count": null,
   "id": "6636411f",
   "metadata": {},
   "outputs": [],
   "source": []
  }
 ],
 "metadata": {
  "kernelspec": {
   "display_name": "Python 3 (ipykernel)",
   "language": "python",
   "name": "python3"
  },
  "language_info": {
   "codemirror_mode": {
    "name": "ipython",
    "version": 3
   },
   "file_extension": ".py",
   "mimetype": "text/x-python",
   "name": "python",
   "nbconvert_exporter": "python",
   "pygments_lexer": "ipython3",
   "version": "3.9.15"
  }
 },
 "nbformat": 4,
 "nbformat_minor": 5
}
